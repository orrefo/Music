{
 "cells": [
  {
   "cell_type": "code",
   "execution_count": 147,
   "metadata": {},
   "outputs": [],
   "source": [
    "import pandas as pd"
   ]
  },
  {
   "cell_type": "code",
   "execution_count": 148,
   "metadata": {},
   "outputs": [],
   "source": [
    "url=\"https://raw.githubusercontent.com/orrefo/Music/refs/heads/main/\""
   ]
  },
  {
   "cell_type": "code",
   "execution_count": 149,
   "metadata": {},
   "outputs": [],
   "source": [
    "artist=pd.read_csv(url+\"artist.csv\",index_col=0)"
   ]
  },
  {
   "cell_type": "code",
   "execution_count": 150,
   "metadata": {},
   "outputs": [],
   "source": [
    "artist=artist.drop_duplicates()"
   ]
  },
  {
   "cell_type": "code",
   "execution_count": 151,
   "metadata": {},
   "outputs": [],
   "source": [
    "mapping=pd.read_csv(url+\"mapping.csv\",index_col=0)"
   ]
  },
  {
   "cell_type": "code",
   "execution_count": 152,
   "metadata": {},
   "outputs": [],
   "source": [
    "mapping=mapping.drop_duplicates()"
   ]
  },
  {
   "cell_type": "code",
   "execution_count": 153,
   "metadata": {},
   "outputs": [],
   "source": [
    "chart=pd.read_csv(url+\"chart.csv\",index_col=0)"
   ]
  },
  {
   "cell_type": "code",
   "execution_count": 154,
   "metadata": {},
   "outputs": [],
   "source": [
    "chart=chart.drop_duplicates()"
   ]
  },
  {
   "cell_type": "code",
   "execution_count": 155,
   "metadata": {},
   "outputs": [],
   "source": [
    "tracks=pd.read_csv(url+\"tracks.csv\",index_col=0)"
   ]
  },
  {
   "cell_type": "code",
   "execution_count": 156,
   "metadata": {},
   "outputs": [],
   "source": [
    "tracks=tracks.drop_duplicates()"
   ]
  },
  {
   "cell_type": "code",
   "execution_count": 157,
   "metadata": {},
   "outputs": [],
   "source": [
    "audio=pd.read_csv(url+\"audio_1.csv\",index_col=0)"
   ]
  },
  {
   "cell_type": "code",
   "execution_count": 158,
   "metadata": {},
   "outputs": [],
   "source": [
    "audio=audio.drop_duplicates()"
   ]
  },
  {
   "cell_type": "code",
   "execution_count": 159,
   "metadata": {},
   "outputs": [],
   "source": [
    "map_artist=pd.merge(mapping,artist,left_on='artist_id',right_on='artist_id',how='left')"
   ]
  },
  {
   "cell_type": "code",
   "execution_count": 160,
   "metadata": {},
   "outputs": [],
   "source": [
    "artist_track=pd.merge(map_artist,tracks,left_on='track_id',right_on='track_id',how='left')"
   ]
  },
  {
   "cell_type": "code",
   "execution_count": 161,
   "metadata": {},
   "outputs": [],
   "source": [
    "artist_track_audio=pd.merge(artist_track ,audio,left_on='track_id',right_on='track_id',how='left')"
   ]
  },
  {
   "cell_type": "code",
   "execution_count": 162,
   "metadata": {},
   "outputs": [],
   "source": [
    "all=pd.merge(chart ,artist_track_audio ,left_on='track_id',right_on='track_id',how='left')\n"
   ]
  },
  {
   "cell_type": "code",
   "execution_count": 171,
   "metadata": {},
   "outputs": [
    {
     "name": "stdout",
     "output_type": "stream",
     "text": [
      "<class 'pandas.core.frame.DataFrame'>\n",
      "RangeIndex: 175529 entries, 0 to 175528\n",
      "Data columns (total 28 columns):\n",
      " #   Column             Non-Null Count   Dtype         \n",
      "---  ------             --------------   -----         \n",
      " 0   chart_week         175529 non-null  datetime64[ns]\n",
      " 1   list_position      175529 non-null  int64         \n",
      " 2   track_id           175529 non-null  object        \n",
      " 3   artist_id          175529 non-null  object        \n",
      " 4   artist             175529 non-null  object        \n",
      " 5   popularity         175529 non-null  float64       \n",
      " 6   followers          175529 non-null  float64       \n",
      " 7   track_title        175529 non-null  object        \n",
      " 8   duration_ms        175529 non-null  float64       \n",
      " 9   release_date       175529 non-null  object        \n",
      " 10  album_type         175529 non-null  object        \n",
      " 11  explicit           175529 non-null  object        \n",
      " 12  danceability       175449 non-null  float64       \n",
      " 13  energy             175449 non-null  float64       \n",
      " 14  key                175449 non-null  float64       \n",
      " 15  loudness           175449 non-null  float64       \n",
      " 16  mode               175449 non-null  float64       \n",
      " 17  speechiness        175449 non-null  float64       \n",
      " 18  acousticness       175449 non-null  float64       \n",
      " 19  instrumentalness   175449 non-null  float64       \n",
      " 20  liveness           175449 non-null  float64       \n",
      " 21  valence            175449 non-null  float64       \n",
      " 22  tempo              175449 non-null  float64       \n",
      " 23  time_signature     175449 non-null  float64       \n",
      " 24  release_date_test  167639 non-null  datetime64[ns]\n",
      " 25  release_year       175529 non-null  object        \n",
      " 26  del_1              167651 non-null  object        \n",
      " 27  del2               167639 non-null  object        \n",
      "dtypes: datetime64[ns](2), float64(15), int64(1), object(10)\n",
      "memory usage: 37.5+ MB\n"
     ]
    }
   ],
   "source": [
    "all.info()"
   ]
  },
  {
   "cell_type": "code",
   "execution_count": 164,
   "metadata": {},
   "outputs": [],
   "source": [
    "all.rename(columns={'name_x':'artist','name_y':'track_title'},inplace=True)"
   ]
  },
  {
   "cell_type": "code",
   "execution_count": 166,
   "metadata": {},
   "outputs": [],
   "source": [
    "all['chart_week'] = pd.to_datetime(all['chart_week'], format='%Y-%m-%d', errors='coerce')"
   ]
  },
  {
   "cell_type": "code",
   "execution_count": 168,
   "metadata": {},
   "outputs": [],
   "source": [
    "all[['release_year','del_1','del2']]=all['release_date'].str.split('-', expand=True)"
   ]
  },
  {
   "cell_type": "code",
   "execution_count": null,
   "metadata": {},
   "outputs": [],
   "source": []
  }
 ],
 "metadata": {
  "kernelspec": {
   "display_name": "Python 3",
   "language": "python",
   "name": "python3"
  },
  "language_info": {
   "codemirror_mode": {
    "name": "ipython",
    "version": 3
   },
   "file_extension": ".py",
   "mimetype": "text/x-python",
   "name": "python",
   "nbconvert_exporter": "python",
   "pygments_lexer": "ipython3",
   "version": "3.12.8"
  }
 },
 "nbformat": 4,
 "nbformat_minor": 2
}
