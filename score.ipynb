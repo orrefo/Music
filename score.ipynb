{
 "cells": [
  {
   "cell_type": "code",
   "execution_count": 1,
   "metadata": {},
   "outputs": [],
   "source": [
    "import pandas as pd\n",
    "import numpy as np"
   ]
  },
  {
   "cell_type": "code",
   "execution_count": 2,
   "metadata": {},
   "outputs": [],
   "source": [
    "url=\"https://raw.githubusercontent.com/orrefo/Music/refs/heads/main/\""
   ]
  },
  {
   "cell_type": "code",
   "execution_count": 3,
   "metadata": {},
   "outputs": [],
   "source": [
    "chart=pd.read_csv(url+\"chart.csv\",index_col=0)"
   ]
  },
  {
   "cell_type": "code",
   "execution_count": 4,
   "metadata": {},
   "outputs": [],
   "source": [
    "chart['score']=round((-15.79*np.log(chart['list_position']+1)+88.06)*1.3,0).astype('int')\n"
   ]
  },
  {
   "cell_type": "code",
   "execution_count": 5,
   "metadata": {},
   "outputs": [
    {
     "data": {
      "text/html": [
       "<div>\n",
       "<style scoped>\n",
       "    .dataframe tbody tr th:only-of-type {\n",
       "        vertical-align: middle;\n",
       "    }\n",
       "\n",
       "    .dataframe tbody tr th {\n",
       "        vertical-align: top;\n",
       "    }\n",
       "\n",
       "    .dataframe thead th {\n",
       "        text-align: right;\n",
       "    }\n",
       "</style>\n",
       "<table border=\"1\" class=\"dataframe\">\n",
       "  <thead>\n",
       "    <tr style=\"text-align: right;\">\n",
       "      <th></th>\n",
       "      <th>chart_week</th>\n",
       "      <th>list_position</th>\n",
       "      <th>track_id</th>\n",
       "      <th>score</th>\n",
       "    </tr>\n",
       "  </thead>\n",
       "  <tbody>\n",
       "    <tr>\n",
       "      <th>0</th>\n",
       "      <td>2021-07-10</td>\n",
       "      <td>42</td>\n",
       "      <td>000TJlEJQ3nafsm1hBWpoj</td>\n",
       "      <td>37</td>\n",
       "    </tr>\n",
       "    <tr>\n",
       "      <th>1</th>\n",
       "      <td>2003-07-19</td>\n",
       "      <td>60</td>\n",
       "      <td>003FTlCpBTM4eSqYSWPv4H</td>\n",
       "      <td>30</td>\n",
       "    </tr>\n",
       "    <tr>\n",
       "      <th>2</th>\n",
       "      <td>2003-07-26</td>\n",
       "      <td>60</td>\n",
       "      <td>003FTlCpBTM4eSqYSWPv4H</td>\n",
       "      <td>30</td>\n",
       "    </tr>\n",
       "    <tr>\n",
       "      <th>3</th>\n",
       "      <td>2003-08-02</td>\n",
       "      <td>64</td>\n",
       "      <td>003FTlCpBTM4eSqYSWPv4H</td>\n",
       "      <td>29</td>\n",
       "    </tr>\n",
       "    <tr>\n",
       "      <th>4</th>\n",
       "      <td>2003-07-12</td>\n",
       "      <td>66</td>\n",
       "      <td>003FTlCpBTM4eSqYSWPv4H</td>\n",
       "      <td>28</td>\n",
       "    </tr>\n",
       "    <tr>\n",
       "      <th>...</th>\n",
       "      <td>...</td>\n",
       "      <td>...</td>\n",
       "      <td>...</td>\n",
       "      <td>...</td>\n",
       "    </tr>\n",
       "    <tr>\n",
       "      <th>129300</th>\n",
       "      <td>2004-04-17</td>\n",
       "      <td>74</td>\n",
       "      <td>7zywdG4ysfC5XNBzjQAo2o</td>\n",
       "      <td>26</td>\n",
       "    </tr>\n",
       "    <tr>\n",
       "      <th>129301</th>\n",
       "      <td>2004-08-07</td>\n",
       "      <td>80</td>\n",
       "      <td>7zywdG4ysfC5XNBzjQAo2o</td>\n",
       "      <td>24</td>\n",
       "    </tr>\n",
       "    <tr>\n",
       "      <th>129302</th>\n",
       "      <td>2004-08-14</td>\n",
       "      <td>81</td>\n",
       "      <td>7zywdG4ysfC5XNBzjQAo2o</td>\n",
       "      <td>24</td>\n",
       "    </tr>\n",
       "    <tr>\n",
       "      <th>129303</th>\n",
       "      <td>2004-08-21</td>\n",
       "      <td>82</td>\n",
       "      <td>7zywdG4ysfC5XNBzjQAo2o</td>\n",
       "      <td>24</td>\n",
       "    </tr>\n",
       "    <tr>\n",
       "      <th>129304</th>\n",
       "      <td>2004-08-28</td>\n",
       "      <td>83</td>\n",
       "      <td>7zywdG4ysfC5XNBzjQAo2o</td>\n",
       "      <td>24</td>\n",
       "    </tr>\n",
       "  </tbody>\n",
       "</table>\n",
       "<p>129305 rows × 4 columns</p>\n",
       "</div>"
      ],
      "text/plain": [
       "        chart_week  list_position                track_id  score\n",
       "0       2021-07-10             42  000TJlEJQ3nafsm1hBWpoj     37\n",
       "1       2003-07-19             60  003FTlCpBTM4eSqYSWPv4H     30\n",
       "2       2003-07-26             60  003FTlCpBTM4eSqYSWPv4H     30\n",
       "3       2003-08-02             64  003FTlCpBTM4eSqYSWPv4H     29\n",
       "4       2003-07-12             66  003FTlCpBTM4eSqYSWPv4H     28\n",
       "...            ...            ...                     ...    ...\n",
       "129300  2004-04-17             74  7zywdG4ysfC5XNBzjQAo2o     26\n",
       "129301  2004-08-07             80  7zywdG4ysfC5XNBzjQAo2o     24\n",
       "129302  2004-08-14             81  7zywdG4ysfC5XNBzjQAo2o     24\n",
       "129303  2004-08-21             82  7zywdG4ysfC5XNBzjQAo2o     24\n",
       "129304  2004-08-28             83  7zywdG4ysfC5XNBzjQAo2o     24\n",
       "\n",
       "[129305 rows x 4 columns]"
      ]
     },
     "execution_count": 5,
     "metadata": {},
     "output_type": "execute_result"
    }
   ],
   "source": [
    "chart"
   ]
  },
  {
   "cell_type": "code",
   "execution_count": 6,
   "metadata": {},
   "outputs": [],
   "source": [
    "url=\"https://raw.githubusercontent.com/orrefo/Music/refs/heads/popularity_score/\""
   ]
  },
  {
   "cell_type": "code",
   "execution_count": 7,
   "metadata": {},
   "outputs": [],
   "source": [
    "data=pd.read_csv(url+'streams%20-%20Sheet1.csv')"
   ]
  },
  {
   "cell_type": "code",
   "execution_count": 8,
   "metadata": {},
   "outputs": [
    {
     "data": {
      "text/plain": [
       "Index(['sweden', 'global'], dtype='object')"
      ]
     },
     "execution_count": 8,
     "metadata": {},
     "output_type": "execute_result"
    }
   ],
   "source": [
    "data.columns"
   ]
  },
  {
   "cell_type": "code",
   "execution_count": 9,
   "metadata": {},
   "outputs": [],
   "source": [
    "data=data.dropna()"
   ]
  },
  {
   "cell_type": "code",
   "execution_count": 10,
   "metadata": {},
   "outputs": [],
   "source": []
  },
  {
   "cell_type": "code",
   "execution_count": 11,
   "metadata": {},
   "outputs": [],
   "source": []
  },
  {
   "cell_type": "code",
   "execution_count": 12,
   "metadata": {},
   "outputs": [],
   "source": [
    "data['test_oskar']=20/(data.index+1)-0.5*(data.index+1)+75"
   ]
  },
  {
   "cell_type": "code",
   "execution_count": 13,
   "metadata": {},
   "outputs": [
    {
     "data": {
      "text/html": [
       "<div>\n",
       "<style scoped>\n",
       "    .dataframe tbody tr th:only-of-type {\n",
       "        vertical-align: middle;\n",
       "    }\n",
       "\n",
       "    .dataframe tbody tr th {\n",
       "        vertical-align: top;\n",
       "    }\n",
       "\n",
       "    .dataframe thead th {\n",
       "        text-align: right;\n",
       "    }\n",
       "</style>\n",
       "<table border=\"1\" class=\"dataframe\">\n",
       "  <thead>\n",
       "    <tr style=\"text-align: right;\">\n",
       "      <th></th>\n",
       "      <th>sweden</th>\n",
       "      <th>global</th>\n",
       "      <th>model</th>\n",
       "      <th>test_oskar</th>\n",
       "    </tr>\n",
       "  </thead>\n",
       "  <tbody>\n",
       "    <tr>\n",
       "      <th>sweden</th>\n",
       "      <td>1.000000</td>\n",
       "      <td>0.941448</td>\n",
       "      <td>0.979360</td>\n",
       "      <td>0.881562</td>\n",
       "    </tr>\n",
       "    <tr>\n",
       "      <th>global</th>\n",
       "      <td>0.941448</td>\n",
       "      <td>1.000000</td>\n",
       "      <td>0.899312</td>\n",
       "      <td>0.772842</td>\n",
       "    </tr>\n",
       "    <tr>\n",
       "      <th>model</th>\n",
       "      <td>0.979360</td>\n",
       "      <td>0.899312</td>\n",
       "      <td>1.000000</td>\n",
       "      <td>0.950640</td>\n",
       "    </tr>\n",
       "    <tr>\n",
       "      <th>test_oskar</th>\n",
       "      <td>0.881562</td>\n",
       "      <td>0.772842</td>\n",
       "      <td>0.950640</td>\n",
       "      <td>1.000000</td>\n",
       "    </tr>\n",
       "  </tbody>\n",
       "</table>\n",
       "</div>"
      ],
      "text/plain": [
       "              sweden    global     model  test_oskar\n",
       "sweden      1.000000  0.941448  0.979360    0.881562\n",
       "global      0.941448  1.000000  0.899312    0.772842\n",
       "model       0.979360  0.899312  1.000000    0.950640\n",
       "test_oskar  0.881562  0.772842  0.950640    1.000000"
      ]
     },
     "execution_count": 13,
     "metadata": {},
     "output_type": "execute_result"
    }
   ],
   "source": [
    "data.corr()"
   ]
  },
  {
   "cell_type": "code",
   "execution_count": 14,
   "metadata": {},
   "outputs": [
    {
     "data": {
      "text/plain": [
       "<Axes: xlabel='sweden', ylabel='global'>"
      ]
     },
     "execution_count": 14,
     "metadata": {},
     "output_type": "execute_result"
    },
    {
     "data": {
      "image/png": "[encoded data removed]",
      "text/plain": [
       "<Figure size 640x480 with 1 Axes>"
      ]
     },
     "metadata": {},
     "output_type": "display_data"
    }
   ],
   "source": [
    "data.plot(kind='scatter',x='sweden',y='global')"
   ]
  },
  {
   "cell_type": "code",
   "execution_count": 15,
   "metadata": {},
   "outputs": [
    {
     "data": {
      "text/plain": [
       "<Axes: xlabel='sweden', ylabel='model'>"
      ]
     },
     "execution_count": 15,
     "metadata": {},
     "output_type": "execute_result"
    },
    {
     "data": {
      "image/png": "[encoded data removed]",
      "text/plain": [
       "<Figure size 640x480 with 1 Axes>"
      ]
     },
     "metadata": {},
     "output_type": "display_data"
    }
   ],
   "source": [
    "data.plot(kind='scatter',x='sweden',y='model')"
   ]
  },
  {
   "cell_type": "code",
   "execution_count": 16,
   "metadata": {},
   "outputs": [
    {
     "data": {
      "text/plain": [
       "<Axes: xlabel='global', ylabel='model'>"
      ]
     },
     "execution_count": 16,
     "metadata": {},
     "output_type": "execute_result"
    },
    {
     "data": {
      "image/png": "[encoded data removed]",
      "text/plain": [
       "<Figure size 640x480 with 1 Axes>"
      ]
     },
     "metadata": {},
     "output_type": "display_data"
    }
   ],
   "source": [
    "data.plot(kind='scatter',x='global',y='model')"
   ]
  },
  {
   "cell_type": "code",
   "execution_count": 17,
   "metadata": {},
   "outputs": [
    {
     "data": {
      "text/plain": [
       "<Axes: xlabel='test_oskar', ylabel='model'>"
      ]
     },
     "execution_count": 17,
     "metadata": {},
     "output_type": "execute_result"
    },
    {
     "data": {
      "image/png": "[encoded data removed]",
      "text/plain": [
       "<Figure size 640x480 with 1 Axes>"
      ]
     },
     "metadata": {},
     "output_type": "display_data"
    }
   ],
   "source": [
    "data.plot(kind='scatter',x='test_oskar',y='model')"
   ]
  },
  {
   "cell_type": "code",
   "execution_count": 18,
   "metadata": {},
   "outputs": [
    {
     "data": {
      "text/html": [
       "<div>\n",
       "<style scoped>\n",
       "    .dataframe tbody tr th:only-of-type {\n",
       "        vertical-align: middle;\n",
       "    }\n",
       "\n",
       "    .dataframe tbody tr th {\n",
       "        vertical-align: top;\n",
       "    }\n",
       "\n",
       "    .dataframe thead th {\n",
       "        text-align: right;\n",
       "    }\n",
       "</style>\n",
       "<table border=\"1\" class=\"dataframe\">\n",
       "  <thead>\n",
       "    <tr style=\"text-align: right;\">\n",
       "      <th></th>\n",
       "      <th>sweden</th>\n",
       "      <th>global</th>\n",
       "      <th>model</th>\n",
       "      <th>test_oskar</th>\n",
       "    </tr>\n",
       "  </thead>\n",
       "  <tbody>\n",
       "    <tr>\n",
       "      <th>0</th>\n",
       "      <td>100.0</td>\n",
       "      <td>100.0</td>\n",
       "      <td>100.0</td>\n",
       "      <td>94.500000</td>\n",
       "    </tr>\n",
       "    <tr>\n",
       "      <th>1</th>\n",
       "      <td>74.9</td>\n",
       "      <td>90.4</td>\n",
       "      <td>92.0</td>\n",
       "      <td>84.000000</td>\n",
       "    </tr>\n",
       "    <tr>\n",
       "      <th>2</th>\n",
       "      <td>72.0</td>\n",
       "      <td>66.9</td>\n",
       "      <td>86.0</td>\n",
       "      <td>80.166667</td>\n",
       "    </tr>\n",
       "    <tr>\n",
       "      <th>3</th>\n",
       "      <td>67.6</td>\n",
       "      <td>65.4</td>\n",
       "      <td>81.0</td>\n",
       "      <td>78.000000</td>\n",
       "    </tr>\n",
       "    <tr>\n",
       "      <th>4</th>\n",
       "      <td>65.4</td>\n",
       "      <td>47.8</td>\n",
       "      <td>78.0</td>\n",
       "      <td>76.500000</td>\n",
       "    </tr>\n",
       "    <tr>\n",
       "      <th>...</th>\n",
       "      <td>...</td>\n",
       "      <td>...</td>\n",
       "      <td>...</td>\n",
       "      <td>...</td>\n",
       "    </tr>\n",
       "    <tr>\n",
       "      <th>94</th>\n",
       "      <td>19.0</td>\n",
       "      <td>15.4</td>\n",
       "      <td>21.0</td>\n",
       "      <td>27.710526</td>\n",
       "    </tr>\n",
       "    <tr>\n",
       "      <th>95</th>\n",
       "      <td>18.9</td>\n",
       "      <td>15.4</td>\n",
       "      <td>21.0</td>\n",
       "      <td>27.208333</td>\n",
       "    </tr>\n",
       "    <tr>\n",
       "      <th>96</th>\n",
       "      <td>18.8</td>\n",
       "      <td>15.4</td>\n",
       "      <td>20.0</td>\n",
       "      <td>26.706186</td>\n",
       "    </tr>\n",
       "    <tr>\n",
       "      <th>97</th>\n",
       "      <td>18.8</td>\n",
       "      <td>15.3</td>\n",
       "      <td>20.0</td>\n",
       "      <td>26.204082</td>\n",
       "    </tr>\n",
       "    <tr>\n",
       "      <th>98</th>\n",
       "      <td>18.7</td>\n",
       "      <td>15.3</td>\n",
       "      <td>20.0</td>\n",
       "      <td>25.702020</td>\n",
       "    </tr>\n",
       "  </tbody>\n",
       "</table>\n",
       "<p>99 rows × 4 columns</p>\n",
       "</div>"
      ],
      "text/plain": [
       "    sweden  global  model  test_oskar\n",
       "0    100.0   100.0  100.0   94.500000\n",
       "1     74.9    90.4   92.0   84.000000\n",
       "2     72.0    66.9   86.0   80.166667\n",
       "3     67.6    65.4   81.0   78.000000\n",
       "4     65.4    47.8   78.0   76.500000\n",
       "..     ...     ...    ...         ...\n",
       "94    19.0    15.4   21.0   27.710526\n",
       "95    18.9    15.4   21.0   27.208333\n",
       "96    18.8    15.4   20.0   26.706186\n",
       "97    18.8    15.3   20.0   26.204082\n",
       "98    18.7    15.3   20.0   25.702020\n",
       "\n",
       "[99 rows x 4 columns]"
      ]
     },
     "execution_count": 18,
     "metadata": {},
     "output_type": "execute_result"
    }
   ],
   "source": [
    "data"
   ]
  }
 ],
 "metadata": {
  "kernelspec": {
   "display_name": "Python 3",
   "language": "python",
   "name": "python3"
  },
  "language_info": {
   "codemirror_mode": {
    "name": "ipython",
    "version": 3
   },
   "file_extension": ".py",
   "mimetype": "text/x-python",
   "name": "python",
   "nbconvert_exporter": "python",
   "pygments_lexer": "ipython3",
   "version": "3.12.8"
  }
 },
 "nbformat": 4,
 "nbformat_minor": 2
}
